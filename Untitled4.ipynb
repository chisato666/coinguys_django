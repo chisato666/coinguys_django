{
 "cells": [
  {
   "cell_type": "code",
   "execution_count": 11,
   "id": "c2bfb219-f95d-4b5e-a4d9-ab73fcb840ec",
   "metadata": {},
   "outputs": [],
   "source": [
    "import time\n",
    "from binance.client import Client\n",
    "import pandas as pd\n",
    "import ta\n",
    "\n",
    "# Initialize the Binance API client\n",
    "api_key = 'VLQd7y0l2OQhtWZz3TWCjSyV3m7Yuip095BbAjrEZuzcUGl3aSgqR5JkUTbblGrX'\n",
    "api_secret = '4vXfyk8L2mdH62mKahTzD0CCVt9dgjlIWgeBUZYfN0kMTVofAoUg48CJzZjMFTuP'\n",
    "\n",
    "client = Client(api_key, api_secret)\n",
    "\n",
    "# Define the trading pair and time interval\n",
    "symbol = 'BTCUSDT'\n",
    "interval = Client.KLINE_INTERVAL_1HOUR\n",
    "\n",
    "# Get the Klines data for the last 2 hours\n",
    "klines = client.get_historical_klines(symbol, interval, \"42 hour ago UTC\")\n",
    "\n",
    "# Convert the Klines data to a pandas DataFrame\n",
    "df = pd.DataFrame(klines, columns=['timestamp', 'open', 'high', 'low', 'close', 'volume', 'close_time', 'quote_asset_volume', 'number_of_trades', 'taker_buy_base_asset_volume', 'taker_buy_quote_asset_volume', 'ignore'])\n",
    "\n",
    "# Convert the timestamp to a datetime object\n",
    "df['timestamp'] = pd.to_datetime(df['timestamp'], unit='ms')\n",
    "\n",
    "# Set the timestamp column as the index\n",
    "df.set_index('timestamp', inplace=True)"
   ]
  },
  {
   "cell_type": "code",
   "execution_count": 5,
   "id": "5d245d47-df6a-468a-bbbe-6f542edaf63e",
   "metadata": {},
   "outputs": [
    {
     "data": {
      "text/plain": [
       "timestamp\n",
       "2023-08-04 05:00:00    29240.84000000\n",
       "2023-08-04 06:00:00    29196.00000000\n",
       "2023-08-04 07:00:00    29212.92000000\n",
       "2023-08-04 08:00:00    29186.27000000\n",
       "2023-08-04 09:00:00    29200.13000000\n",
       "2023-08-04 10:00:00    29161.91000000\n",
       "2023-08-04 11:00:00    29167.51000000\n",
       "2023-08-04 12:00:00    29222.53000000\n",
       "2023-08-04 13:00:00    29240.72000000\n",
       "2023-08-04 14:00:00    29257.13000000\n",
       "2023-08-04 15:00:00    29274.28000000\n",
       "2023-08-04 16:00:00    29285.07000000\n",
       "Name: close, dtype: object"
      ]
     },
     "execution_count": 5,
     "metadata": {},
     "output_type": "execute_result"
    }
   ],
   "source": [
    "# Calculate the RSI using the ta library\n",
    "df['close']"
   ]
  },
  {
   "cell_type": "code",
   "execution_count": 12,
   "id": "9b797627-1f19-4220-9971-d34ad992276a",
   "metadata": {},
   "outputs": [],
   "source": [
    "\n",
    "df['close']=pd.to_numeric(df['close'],errors='coerce')\n",
    "rsi = ta.momentum.RSIIndicator(df['close'], window=14)"
   ]
  },
  {
   "cell_type": "code",
   "execution_count": 13,
   "id": "a2578ffb-9013-4085-aad6-a14d79fbd97e",
   "metadata": {},
   "outputs": [
    {
     "data": {
      "text/plain": [
       "timestamp\n",
       "2023-08-02 23:00:00          NaN\n",
       "2023-08-03 00:00:00          NaN\n",
       "2023-08-03 01:00:00          NaN\n",
       "2023-08-03 02:00:00          NaN\n",
       "2023-08-03 03:00:00          NaN\n",
       "2023-08-03 04:00:00          NaN\n",
       "2023-08-03 05:00:00          NaN\n",
       "2023-08-03 06:00:00          NaN\n",
       "2023-08-03 07:00:00          NaN\n",
       "2023-08-03 08:00:00          NaN\n",
       "2023-08-03 09:00:00          NaN\n",
       "2023-08-03 10:00:00          NaN\n",
       "2023-08-03 11:00:00          NaN\n",
       "2023-08-03 12:00:00    42.090346\n",
       "2023-08-03 13:00:00    54.517225\n",
       "2023-08-03 14:00:00    69.847825\n",
       "2023-08-03 15:00:00    56.059359\n",
       "2023-08-03 16:00:00    58.904784\n",
       "2023-08-03 17:00:00    52.782362\n",
       "2023-08-03 18:00:00    55.504688\n",
       "2023-08-03 19:00:00    56.298195\n",
       "2023-08-03 20:00:00    57.885069\n",
       "2023-08-03 21:00:00    53.283279\n",
       "2023-08-03 22:00:00    51.636401\n",
       "2023-08-03 23:00:00    48.068583\n",
       "2023-08-04 00:00:00    51.478622\n",
       "2023-08-04 01:00:00    48.445899\n",
       "2023-08-04 02:00:00    45.762841\n",
       "2023-08-04 03:00:00    45.366442\n",
       "2023-08-04 04:00:00    49.808871\n",
       "2023-08-04 05:00:00    53.018049\n",
       "2023-08-04 06:00:00    48.704280\n",
       "2023-08-04 07:00:00    50.346028\n",
       "2023-08-04 08:00:00    47.753564\n",
       "2023-08-04 09:00:00    49.218124\n",
       "2023-08-04 10:00:00    45.435785\n",
       "2023-08-04 11:00:00    46.089503\n",
       "2023-08-04 12:00:00    52.154631\n",
       "2023-08-04 13:00:00    53.997298\n",
       "2023-08-04 14:00:00    55.656493\n",
       "2023-08-04 15:00:00    57.386323\n",
       "2023-08-04 16:00:00    55.364232\n",
       "Name: rsi, dtype: float64"
      ]
     },
     "execution_count": 13,
     "metadata": {},
     "output_type": "execute_result"
    }
   ],
   "source": [
    "rsi.rsi()"
   ]
  },
  {
   "cell_type": "code",
   "execution_count": null,
   "id": "b373c808-6768-4755-af91-6a79fc7b916d",
   "metadata": {},
   "outputs": [],
   "source": []
  }
 ],
 "metadata": {
  "kernelspec": {
   "display_name": "Python 3 (ipykernel)",
   "language": "python",
   "name": "python3"
  },
  "language_info": {
   "codemirror_mode": {
    "name": "ipython",
    "version": 3
   },
   "file_extension": ".py",
   "mimetype": "text/x-python",
   "name": "python",
   "nbconvert_exporter": "python",
   "pygments_lexer": "ipython3",
   "version": "3.10.2"
  }
 },
 "nbformat": 4,
 "nbformat_minor": 5
}
