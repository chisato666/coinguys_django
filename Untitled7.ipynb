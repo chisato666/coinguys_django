{
 "cells": [
  {
   "cell_type": "code",
   "execution_count": 1,
   "id": "e9d59f10-5112-4754-8d6e-274a5703f849",
   "metadata": {},
   "outputs": [
    {
     "name": "stdout",
     "output_type": "stream",
     "text": [
      "Symbols with price increase over :5.0%\n",
      "['AKRO_USDT', 0.0732]\n",
      "['FLM_USDT', 0.13]\n",
      "['PERP_USDT', 0.0784]\n",
      "['DIONE_USDT', 0.0737]\n",
      "['PLANET_USDT', 0.0643]\n",
      "['KDA_USDT', 0.0919]\n",
      "['ORDI_USDT', 0.053]\n"
     ]
    }
   ],
   "source": [
    "import requests\n",
    "\n",
    "def get_symbols_with_price_increase(rate):\n",
    "    url = \"https://contract.mexc.com/api/v1/contract/ticker\"\n",
    "    response = requests.get(url)\n",
    "    \n",
    "    if response.status_code == 200:\n",
    "        data = response.json()\n",
    "        symbols = []\n",
    "        \n",
    "        for ticker in data['data']:\n",
    "            symbol = ticker['symbol']\n",
    "            price_change_percentage = float(ticker['riseFallRate'])\n",
    "            \n",
    "            if price_change_percentage > rate:\n",
    "                line=[symbol,price_change_percentage]\n",
    "                symbols.append(line)\n",
    "        \n",
    "        return symbols\n",
    "    else:\n",
    "        print(\"Failed to retrieve data from MEXC API.\")\n",
    "        return None\n",
    "\n",
    "# Example usage\n",
    "rate=0.05\n",
    "symbol_list = get_symbols_with_price_increase(rate)\n",
    "if symbol_list:\n",
    "    print(\"Symbols with price increase over :\" + str(rate*100) + \"%\")\n",
    "    for symbol in symbol_list:\n",
    "        print(symbol)\n"
   ]
  },
  {
   "cell_type": "code",
   "execution_count": 18,
   "id": "524af95f-d001-4bcd-ab04-2c58e57224c4",
   "metadata": {},
   "outputs": [
    {
     "data": {
      "text/plain": [
       "[]"
      ]
     },
     "execution_count": 18,
     "metadata": {},
     "output_type": "execute_result"
    }
   ],
   "source": []
  },
  {
   "cell_type": "code",
   "execution_count": null,
   "id": "2be1f1ac-6ecd-4472-b4c9-b734ed37947e",
   "metadata": {},
   "outputs": [],
   "source": []
  }
 ],
 "metadata": {
  "kernelspec": {
   "display_name": "Python 3 (ipykernel)",
   "language": "python",
   "name": "python3"
  },
  "language_info": {
   "codemirror_mode": {
    "name": "ipython",
    "version": 3
   },
   "file_extension": ".py",
   "mimetype": "text/x-python",
   "name": "python",
   "nbconvert_exporter": "python",
   "pygments_lexer": "ipython3",
   "version": "3.10.2"
  }
 },
 "nbformat": 4,
 "nbformat_minor": 5
}
