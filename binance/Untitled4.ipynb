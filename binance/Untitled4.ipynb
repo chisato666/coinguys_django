{
 "cells": [
  {
   "cell_type": "code",
   "execution_count": null,
   "id": "e16f5852-1784-4254-943e-c53ceb116742",
   "metadata": {},
   "outputs": [],
   "source": [
    "import time\n",
    "from binance.client import Client\n",
    "from ta.momentum import RSIIndicator\n",
    "from ta.trend import MACD\n",
    "\n",
    "# Replace with your Binance API keys\n",
    "api_key = 'VLQd7y0l2OQhtWZz3TWCjSyV3m7Yuip095BbAjrEZuzcUGl3aSgqR5JkUTbblGrX'\n",
    "api_secret = '4vXfyk8L2mdH62mKahTzD0CCVt9dgjlIWgeBUZYfN0kMTVofAoUg48CJzZjMFTuP'\n",
    "\n",
    " \n",
    "\n",
    "# Initialize the Binance client\n",
    "client = Client(api_key, api_secret)\n",
    "\n",
    "# Define the symbol to check\n",
    "symbol = \"BTCUSDT\"\n",
    "\n",
    "# Define the time period to check\n",
    "time_period = \"1h\"\n",
    "\n",
    "# Define the RSI and MACD thresholds\n",
    "rsi_threshold = 70\n",
    "macd_signal_threshold = 0\n",
    "\n",
    "# Define the percentage increase threshold\n",
    "percentage_increase_threshold = 0.01\n",
    "\n",
    "# Define the initial highest price\n",
    "highest_price = 0\n",
    "\n",
    "def get_current_price():\n",
    "    url = \"https://api.binance.com/api/v3/ticker/price\"\n",
    "    params = {'symbol': 'BTCUSDT'}\n",
    "    response = requests.get(url, params=params)\n",
    "    data = response.json()\n",
    "    return float(data['price'])\n",
    "\n",
    "while True:\n",
    "    # Get the last candle for the 1-hour time period\n",
    "    klines = client.get_historical_klines(symbol, time_period, \"1 hour ago UTC\")\n",
    "    last_candle = klines\n",
    "\n",
    "    # Extract the relevant data\n",
    "    close_price = float(last_candle[0][4])\n",
    "    high_price = float(last_candle[0][2])\n",
    "    low_price = float(last_candle[0][3])\n",
    "    volume = float(last_candle[0][5])\n",
    "    \n",
    "    price = get_current_price()\n",
    "\n",
    "\n",
    "    # Check if the current price is the highest in the last 24 hours\n",
    "    if high_price > highest_price:\n",
    "        highest_price = high_price\n",
    "\n",
    "    # Check if the current price increased by the percentage threshold within 1 minute\n",
    "    current_price_increase = (close_price - low_price) / low_price\n",
    "    if current_price_increase > percentage_increase_threshold:\n",
    "        print('Price increaed: {:.2f}%'.format(current_price_increase ))\n",
    "\n",
    "        # Calculate the RSI and MACD indicators\n",
    "    close_prices = [float(kline[4]) for kline in klines[:-1]]\n",
    "    rsi_indicator = RSIIndicator(close_prices)\n",
    "    macd_indicator = MACD(close_prices)\n",
    "\n",
    "        # Check if the RSI is above the threshold and the MACD signal is positive\n",
    "    rsi_value = rsi_indicator.rsi()[-1]\n",
    "    macd_signal = macd_indicator.macd_signal()[-1]\n",
    "   \n",
    "    if rsi_value > rsi_threshold and macd_signal > macd_signal_threshold:\n",
    "        print(\"Sell signal detected!\")\n",
    "    \n",
    "    \n",
    "    print(highest_price,rsi_value,macd_signal,price)\n",
    "    \n",
    "    # Wait for 1 minute before checking again\n",
    "    time.sleep(5)\n",
    "    "
   ]
  },
  {
   "cell_type": "code",
   "execution_count": null,
   "id": "a801f9bc-88f7-4887-8a90-efc9b261b7cd",
   "metadata": {},
   "outputs": [],
   "source": []
  },
  {
   "cell_type": "code",
   "execution_count": null,
   "id": "a76fef83-37c9-4005-bf59-5653782f1b2d",
   "metadata": {},
   "outputs": [],
   "source": [
    "highest_price"
   ]
  },
  {
   "cell_type": "code",
   "execution_count": null,
   "id": "cbbb227f-02fb-4c30-96b0-f5a897380c89",
   "metadata": {},
   "outputs": [],
   "source": [
    "   "
   ]
  },
  {
   "cell_type": "code",
   "execution_count": null,
   "id": "fc24ee3d-843d-4af0-956b-45cd62857959",
   "metadata": {},
   "outputs": [],
   "source": []
  },
  {
   "cell_type": "code",
   "execution_count": null,
   "id": "73df4869-4d9a-4ac6-b696-21a5923e2bd3",
   "metadata": {},
   "outputs": [],
   "source": []
  }
 ],
 "metadata": {
  "kernelspec": {
   "display_name": "Python 3 (ipykernel)",
   "language": "python",
   "name": "python3"
  },
  "language_info": {
   "codemirror_mode": {
    "name": "ipython",
    "version": 3
   },
   "file_extension": ".py",
   "mimetype": "text/x-python",
   "name": "python",
   "nbconvert_exporter": "python",
   "pygments_lexer": "ipython3",
   "version": "3.10.2"
  }
 },
 "nbformat": 4,
 "nbformat_minor": 5
}
