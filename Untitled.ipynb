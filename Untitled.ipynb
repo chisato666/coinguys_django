{
 "cells": [
  {
   "cell_type": "code",
   "execution_count": 1,
   "id": "34144e17-7b3b-4988-ad9e-a1ebde721786",
   "metadata": {},
   "outputs": [
    {
     "ename": "SyntaxError",
     "evalue": "invalid syntax (83158939.py, line 27)",
     "output_type": "error",
     "traceback": [
      "\u001b[0;36m  Input \u001b[0;32mIn [1]\u001b[0;36m\u001b[0m\n\u001b[0;31m    self.df['signal']=np.\u001b[0m\n\u001b[0m                         ^\u001b[0m\n\u001b[0;31mSyntaxError\u001b[0m\u001b[0;31m:\u001b[0m invalid syntax\n"
     ]
    }
   ],
   "source": [
    "import yfinance as yf\n",
    "import pandas as pd\n",
    "import numpy as np\n",
    "import talib\n",
    "import matplotlib.pyplot as plt\n",
    "\n",
    "class Backtest:\n",
    "    def __init__(self,symbol):\n",
    "        self.symbol=symbol\n",
    "        self.df= yf.download(self.symbol,start='2022-01-01')\n",
    "        if self.df.empty:\n",
    "            print('No data pulled')\n",
    "        else:\n",
    "            self.calc_indicators()\n",
    "\n",
    "    def calc_indicators(self):\n",
    "        self.df['ma_20']=self.df.Close.rolling(20).mean()\n",
    "        self.df['vol'] = self.df.Close.rolling(20).std()\n",
    "        self.df['upper_bb']=self.df.ma_20 + (2 * self.df.vol)\n",
    "        self.df['lower_bb']=self.df.ma_20 - (2 * self.df.vol)\n",
    "        self.df['rsi'] = talib.RSI(self.df.Close,window=6)\n",
    "        self.df.dropna(inplace=True)\n",
    "      \n",
    "    def generate_signals(self):\n",
    "        conditions = [(self.df.rsi < 30) & (self.df.Close < self.df.lower_bb), ( self.df.rsi > 70) & ( self.df.Close > self.df.upper_bb)]\n",
    "        choices=['Buy','Sell']\n",
    "        self.df['signal']=np.\n",
    "instance = Backtest('ETH-USD')\n",
    "\n",
    "instance.df\n",
    "\n",
    "\n"
   ]
  },
  {
   "cell_type": "code",
   "execution_count": null,
   "id": "68b24400-9060-4535-bcac-483c8dec7c4c",
   "metadata": {},
   "outputs": [],
   "source": []
  },
  {
   "cell_type": "code",
   "execution_count": 9,
   "id": "f79397fa-6992-4c81-97dd-732ff74979c4",
   "metadata": {},
   "outputs": [],
   "source": [
    " "
   ]
  },
  {
   "cell_type": "code",
   "execution_count": null,
   "id": "d2e09619-17c0-4571-af2c-d95b50e8d30a",
   "metadata": {},
   "outputs": [],
   "source": []
  }
 ],
 "metadata": {
  "kernelspec": {
   "display_name": "Python 3 (ipykernel)",
   "language": "python",
   "name": "python3"
  },
  "language_info": {
   "codemirror_mode": {
    "name": "ipython",
    "version": 3
   },
   "file_extension": ".py",
   "mimetype": "text/x-python",
   "name": "python",
   "nbconvert_exporter": "python",
   "pygments_lexer": "ipython3",
   "version": "3.10.2"
  }
 },
 "nbformat": 4,
 "nbformat_minor": 5
}
