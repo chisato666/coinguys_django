{
 "cells": [
  {
   "cell_type": "raw",
   "id": "6cb2b41e-8426-40ce-907a-414575049459",
   "metadata": {},
   "source": [
    "import websocket, json\n",
    "cc='btcusdt'\n",
    "interval='1m'\n",
    "socket='wss://stream.binance.com:9443/ws/ethusdt@kline_1m'\n",
    "closes=[]\n",
    "\n",
    "def on_message(ws,message):\n",
    "    json_message=json.loads(message)\n",
    "    candle=json_message['k']\n",
    "    is_candle_closed=candle['x']\n",
    "    close=candle['c']\n",
    "    high=candle['h']\n",
    "\n",
    "    print(close)\n",
    "  \n",
    "\n",
    "def on_close(ws):\n",
    "    print('close')\n",
    "\n",
    "ws=websocket.WebSocketApp(socket,on_message=on_message,on_close=on_close)\n",
    "ws.run_forever()"
   ]
  },
  {
   "cell_type": "code",
   "execution_count": null,
   "id": "c43f952e-5949-4da2-a516-ab955b91e328",
   "metadata": {},
   "outputs": [],
   "source": [
    "\n"
   ]
  },
  {
   "cell_type": "code",
   "execution_count": null,
   "id": "65decc55-42ae-484a-b7c2-d17572113c00",
   "metadata": {},
   "outputs": [],
   "source": []
  },
  {
   "cell_type": "code",
   "execution_count": null,
   "id": "73bcda92-2e53-4c26-8713-b73ad107e4de",
   "metadata": {},
   "outputs": [],
   "source": []
  },
  {
   "cell_type": "code",
   "execution_count": null,
   "id": "447621fa-c36d-4068-bd59-08062fab22cd",
   "metadata": {},
   "outputs": [],
   "source": []
  },
  {
   "cell_type": "code",
   "execution_count": null,
   "id": "10034ba1-e803-474b-b023-82edf78ea2fb",
   "metadata": {},
   "outputs": [],
   "source": []
  },
  {
   "cell_type": "raw",
   "id": "946e62c0-cc78-4a7a-92c7-d10f86255af3",
   "metadata": {},
   "source": []
  },
  {
   "cell_type": "code",
   "execution_count": null,
   "id": "0273ee55-de44-4484-9890-f8a634abf0d7",
   "metadata": {},
   "outputs": [],
   "source": []
  },
  {
   "cell_type": "code",
   "execution_count": null,
   "id": "9bb84a53-f774-47cd-9404-e67be16917e8",
   "metadata": {},
   "outputs": [],
   "source": []
  }
 ],
 "metadata": {
  "kernelspec": {
   "display_name": "Python 3 (ipykernel)",
   "language": "python",
   "name": "python3"
  },
  "language_info": {
   "codemirror_mode": {
    "name": "ipython",
    "version": 3
   },
   "file_extension": ".py",
   "mimetype": "text/x-python",
   "name": "python",
   "nbconvert_exporter": "python",
   "pygments_lexer": "ipython3",
   "version": "3.10.2"
  }
 },
 "nbformat": 4,
 "nbformat_minor": 5
}
