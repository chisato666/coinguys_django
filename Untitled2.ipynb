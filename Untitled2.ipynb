{
 "cells": [
  {
   "cell_type": "code",
   "execution_count": 1,
   "id": "604a50a7-47f5-4f06-9b2a-3ab3fa7b4b23",
   "metadata": {},
   "outputs": [],
   "source": [
    "import pandas as pd\n",
    "from binance.client import Client\n",
    "import numpy as np\n",
    "\n",
    "client = Client()\n",
    "\n",
    "def getdata(symbol, start):\n",
    "    frame = pd.DataFrame(client.get_historical_klines(symbol, '1h', start))\n",
    "\n",
    "    frame = frame.iloc[:, :6]\n",
    "    frame.columns = ['Time', 'Open', 'High', 'Low', 'Close', 'Volume']\n",
    "    frame.set_index('Time', inplace=True)\n",
    "    frame.index = pd.to_datetime(frame.index, unit='ms')\n",
    "    frame = frame.astype(float)\n",
    "    return frame"
   ]
  },
  {
   "cell_type": "code",
   "execution_count": 5,
   "id": "1bd73d25-6eb3-4ffa-9384-305e37384c18",
   "metadata": {},
   "outputs": [],
   "source": [
    "def get_levels(date):\n",
    "    values = [-0.618, 0.618, 1.618]\n",
    "    series_ = df.loc[date:][1:2].squeeze()\n",
    "    diff = series_.High - series_.Low\n",
    "    levels = [series_.Close + i * diff for i in values]\n",
    "    return levels\n",
    "\n",
    "\n",
    "\n",
    "df = getdata('BTCUSDT', '2022-01-01')\n",
    "\n",
    "df['price'] = df.Open.shift(-1)\n",
    "\n",
    "dates = np.unique(df.index.date)\n",
    "\n",
    "buys,sells= [],[]\n",
    "trade_dates = []\n",
    "\n",
    "in_position = False"
   ]
  },
  {
   "cell_type": "code",
   "execution_count": 6,
   "id": "d1081c85-30ba-4f77-a0e7-d4e9d5c55a8e",
   "metadata": {},
   "outputs": [
    {
     "name": "stdout",
     "output_type": "stream",
     "text": [
      "Series([], Name: PnL_rel, dtype: float64)\n"
     ]
    }
   ],
   "source": [
    "# for date in dates:\n",
    "#     for index,row in df[date:][2:].iterrows():\n",
    "#         if not in_position:\n",
    "#             sl,entry,tp = get_levels(date)\n",
    "#             if row.Close >= entry:\n",
    "                \n",
    "#                 buys.append(row.price)\n",
    "#                 trade_dates.append(date)\n",
    "#                 in_position = True\n",
    "#         if in_position:\n",
    "#             if row.Close >= tp or row.Close <= sl:\n",
    "\n",
    "                \n",
    "#                 sells.append(row.price)\n",
    "#                 in_position=False\n",
    "#                 break\n",
    "\n",
    "trades=pd.DataFrame([buys,sells])\n",
    "trades.columns=trade_dates\n",
    "trades.index = ['Buy','Sell']\n",
    "\n",
    "\n",
    "trades=trades.T\n",
    "trades['PnL'] = trades.Sell - trades.Buy\n",
    "trades['PnL_rel'] = trades.PnL/trades.Buy\n",
    "print((trades.PnL_rel + 1).cumprod())"
   ]
  },
  {
   "cell_type": "code",
   "execution_count": null,
   "id": "5a5f45e3-6d17-4a3a-b53a-426c25fe92c0",
   "metadata": {},
   "outputs": [],
   "source": []
  },
  {
   "cell_type": "code",
   "execution_count": null,
   "id": "610fffd2-a03f-4319-86e1-38d544902d06",
   "metadata": {},
   "outputs": [],
   "source": []
  },
  {
   "cell_type": "code",
   "execution_count": null,
   "id": "b8297917-7942-47b6-84aa-0c57ccc4e26d",
   "metadata": {},
   "outputs": [],
   "source": []
  },
  {
   "cell_type": "code",
   "execution_count": null,
   "id": "3691c361-1ff8-4184-b92c-c8ba10f9a80d",
   "metadata": {},
   "outputs": [],
   "source": []
  },
  {
   "cell_type": "code",
   "execution_count": null,
   "id": "f55b8935-90b0-48c2-84e1-73dff79eff35",
   "metadata": {},
   "outputs": [],
   "source": []
  }
 ],
 "metadata": {
  "kernelspec": {
   "display_name": "Python 3 (ipykernel)",
   "language": "python",
   "name": "python3"
  },
  "language_info": {
   "codemirror_mode": {
    "name": "ipython",
    "version": 3
   },
   "file_extension": ".py",
   "mimetype": "text/x-python",
   "name": "python",
   "nbconvert_exporter": "python",
   "pygments_lexer": "ipython3",
   "version": "3.10.2"
  }
 },
 "nbformat": 4,
 "nbformat_minor": 5
}
