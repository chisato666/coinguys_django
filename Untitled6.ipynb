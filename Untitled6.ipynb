{
 "cells": [
  {
   "cell_type": "code",
   "execution_count": 1,
   "id": "e096f6bd-0c62-4dc9-9498-4c0b07e0c5a9",
   "metadata": {},
   "outputs": [
    {
     "name": "stdout",
     "output_type": "stream",
     "text": [
      "Failed to retrieve data from MEXC API.\n"
     ]
    }
   ],
   "source": [
    "\n",
    "import requests\n",
    "import datetime\n",
    "\n",
    "def get_symbols_published_within_six_months():\n",
    "    url = \"https://www.mexc.com/open/api/v2/contract/list\"\n",
    "    response = requests.get(url)\n",
    "    \n",
    "    if response.status_code == 200:\n",
    "        data = response.json()\n",
    "        symbols = []\n",
    "        six_months_ago = datetime.datetime.now() - datetime.timedelta(days=180)\n",
    "        \n",
    "        for contract in data['data']:\n",
    "            symbol = contract['symbol']\n",
    "            published_at = datetime.datetime.fromtimestamp(contract['createDate'] / 1000)\n",
    "            \n",
    "            if published_at >= six_months_ago:\n",
    "                symbols.append(symbol)\n",
    "        \n",
    "        return symbols\n",
    "    else:\n",
    "        print(\"Failed to retrieve data from MEXC API.\")\n",
    "        return None\n",
    "\n",
    "# Example usage\n",
    "symbol_list = get_symbols_published_within_six_months()\n",
    "if symbol_list:\n",
    "    print(\"Symbols with Perpetual Contracts published within the last 6 months:\")\n",
    "    for symbol in symbol_list:\n",
    "        print(symbol)\n"
   ]
  },
  {
   "cell_type": "code",
   "execution_count": null,
   "id": "5d0c76cf-859b-4e5a-a3bb-833d85ecdde1",
   "metadata": {},
   "outputs": [],
   "source": []
  }
 ],
 "metadata": {
  "kernelspec": {
   "display_name": "Python 3 (ipykernel)",
   "language": "python",
   "name": "python3"
  },
  "language_info": {
   "codemirror_mode": {
    "name": "ipython",
    "version": 3
   },
   "file_extension": ".py",
   "mimetype": "text/x-python",
   "name": "python",
   "nbconvert_exporter": "python",
   "pygments_lexer": "ipython3",
   "version": "3.10.2"
  }
 },
 "nbformat": 4,
 "nbformat_minor": 5
}
