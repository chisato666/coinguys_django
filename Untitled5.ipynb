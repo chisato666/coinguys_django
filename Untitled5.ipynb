{
 "cells": [
  {
   "cell_type": "code",
   "execution_count": 7,
   "id": "8557d405-e426-4e8b-8c16-d46bbcea3bea",
   "metadata": {},
   "outputs": [
    {
     "name": "stdout",
     "output_type": "stream",
     "text": [
      "                         upper_bb      bb_upper\n",
      "Time                                           \n",
      "2023-08-06 04:00:00  29095.904022  29094.941675\n",
      "2023-08-06 05:00:00  29103.238491  29102.147643\n",
      "2023-08-06 06:00:00  29104.062921  29102.966618\n",
      "2023-08-06 07:00:00  29108.096804  29106.954928\n",
      "2023-08-06 08:00:00  29112.085193  29110.965740\n",
      "2023-08-06 09:00:00  29110.833607  29109.818426\n",
      "2023-08-06 10:00:00  29110.908034  29109.893261\n",
      "2023-08-06 11:00:00  29110.362952  29109.408216\n",
      "2023-08-06 12:00:00  29110.294101  29109.341615\n",
      "2023-08-06 13:00:00  29115.565504  29114.418799\n",
      "2023-08-06 14:00:00  29115.719413  29114.519613\n",
      "2023-08-06 15:00:00  29119.094462  29117.740307\n",
      "2023-08-06 16:00:00  29121.571522  29120.199692\n",
      "2023-08-06 17:00:00  29123.096005  29121.704678\n",
      "2023-08-06 18:00:00  29122.731462  29121.345846\n",
      "2023-08-06 19:00:00  29124.232265  29122.828740\n",
      "2023-08-06 20:00:00  29135.204207  29133.609310\n",
      "2023-08-06 21:00:00  29135.829970  29134.280188\n",
      "2023-08-06 22:00:00  29138.353352  29136.779455\n",
      "2023-08-06 23:00:00  29139.525167  29137.952527\n",
      "2023-08-07 00:00:00  29139.357802  29137.766802\n",
      "2023-08-07 01:00:00  29147.752625  29146.002427\n",
      "2023-08-07 02:00:00  29171.823574  29169.624443\n",
      "2023-08-07 03:00:00  29182.013291  29179.644760\n",
      "2023-08-07 04:00:00  29194.344966  29191.754103\n",
      "2023-08-07 05:00:00  29197.671018  29195.051681\n",
      "2023-08-07 06:00:00  29197.964709  29195.315147\n",
      "2023-08-07 07:00:00  29198.520085  29195.876818\n"
     ]
    }
   ],
   "source": [
    "import config, function\n",
    "import pandas as pd\n",
    "import talib\n",
    "import ta, os\n",
    "from binance.client import Client\n",
    "client= Client()\n",
    "\n",
    "\n",
    "\n",
    "def getdata(symbol):\n",
    "\n",
    "    df = pd.DataFrame(client.get_historical_klines(symbol, \"1h\", \"2 day ago UTC\"))\n",
    "    df = df.iloc[:,:6]\n",
    "    df.columns = ['Time','Open','High','Low','Close','Volume']\n",
    "    df.set_index('Time',inplace=True)\n",
    "    df.index = pd.to_datetime(df.index,unit='ms')\n",
    "    df= df.astype(float)\n",
    "\n",
    "    df['ret']= df.Close.pct_change()\n",
    "    #df.ret.plot(kind='hist', bins=100)\n",
    "    df['price']=df.Open.shift(-1)\n",
    "\n",
    "    return df\n",
    "\n",
    "def calc_indicators(df):\n",
    "\n",
    "    df['ma_20'] =  df.Close.rolling(20).mean()\n",
    "    df['vol'] =  df.Close.rolling(20).std()\n",
    "    df['upper_bb'] =  df.ma_20 + (2 *  df.vol)\n",
    "    df['lower_bb'] =  df.ma_20 - (2 *  df.vol)\n",
    "    df['ret'] =  df.Close.pct_change()\n",
    "    df['sl'] =  df.Close * 0.98\n",
    "    df['tp'] =  df.Close * 1.02\n",
    "\n",
    "    df['price'] =  df.Open.shift(-1)\n",
    "\n",
    "\n",
    "\n",
    "    df['rsi'] = ta.momentum.RSIIndicator( df.Close, window=14).rsi()\n",
    "\n",
    "\n",
    "    df['bb_upper'] = ta.volatility.BollingerBands(close=df.Close, window=20, window_dev=2).bollinger_hband()\n",
    "\n",
    "\n",
    "    df.dropna(inplace=True)\n",
    "\n",
    "    # print(df['rsi'])\n",
    "    # print(df['bb_upper'])\n",
    "    return df\n",
    "\n",
    "def generate_signals():\n",
    "    conditions = [(self.df.rsi < 30) & (self.df.Close < self.df.lower_bb),\n",
    "                    (self.df.rsi > 70) & (self.df.Close > self.df.upper_bb)]\n",
    "\n",
    "    conditions2 = [(self.df.ret > 0.01),\n",
    "                    (self.df.High > self.df.tp) | (self.df.Low < self.df.sl)]\n",
    "\n",
    "\n",
    "\n",
    "#print(os.path.abspath(ta.__file__))\n",
    "\n",
    "df=getdata('BTCUSDT')\n",
    "#calc_indicators(df)\n",
    "print(calc_indicators(df)[['upper_bb','bb_upper']])\n"
   ]
  },
  {
   "cell_type": "code",
   "execution_count": 10,
   "id": "e1dd72d4-8d4f-44f9-8ff0-e459f7708330",
   "metadata": {},
   "outputs": [
    {
     "data": {
      "text/plain": [
       "29229.62"
      ]
     },
     "execution_count": 10,
     "metadata": {},
     "output_type": "execute_result"
    }
   ],
   "source": [
    "df['High'].max()"
   ]
  },
  {
   "cell_type": "code",
   "execution_count": 11,
   "id": "6f13ebc0-f6ee-4b3f-b704-9f95704f6d5e",
   "metadata": {},
   "outputs": [
    {
     "data": {
      "text/plain": [
       "28991.88"
      ]
     },
     "execution_count": 11,
     "metadata": {},
     "output_type": "execute_result"
    }
   ],
   "source": [
    "df['Low'].min()"
   ]
  },
  {
   "cell_type": "code",
   "execution_count": 12,
   "id": "82a3d6a6-aa1d-4e33-95e5-2fdb48afa8e5",
   "metadata": {},
   "outputs": [
    {
     "ename": "KeyError",
     "evalue": "'close'",
     "output_type": "error",
     "traceback": [
      "\u001b[0;31m---------------------------------------------------------------------------\u001b[0m",
      "\u001b[0;31mKeyError\u001b[0m                                  Traceback (most recent call last)",
      "File \u001b[0;32m~/PycharmProjects/binance/venv/lib/python3.10/site-packages/pandas/core/indexes/base.py:2898\u001b[0m, in \u001b[0;36mIndex.get_loc\u001b[0;34m(self, key, method, tolerance)\u001b[0m\n\u001b[1;32m   2897\u001b[0m \u001b[38;5;28;01mtry\u001b[39;00m:\n\u001b[0;32m-> 2898\u001b[0m     \u001b[38;5;28;01mreturn\u001b[39;00m \u001b[38;5;28;43mself\u001b[39;49m\u001b[38;5;241;43m.\u001b[39;49m\u001b[43m_engine\u001b[49m\u001b[38;5;241;43m.\u001b[39;49m\u001b[43mget_loc\u001b[49m\u001b[43m(\u001b[49m\u001b[43mcasted_key\u001b[49m\u001b[43m)\u001b[49m\n\u001b[1;32m   2899\u001b[0m \u001b[38;5;28;01mexcept\u001b[39;00m \u001b[38;5;167;01mKeyError\u001b[39;00m \u001b[38;5;28;01mas\u001b[39;00m err:\n",
      "File \u001b[0;32mpandas/_libs/index.pyx:70\u001b[0m, in \u001b[0;36mpandas._libs.index.IndexEngine.get_loc\u001b[0;34m()\u001b[0m\n",
      "File \u001b[0;32mpandas/_libs/index.pyx:101\u001b[0m, in \u001b[0;36mpandas._libs.index.IndexEngine.get_loc\u001b[0;34m()\u001b[0m\n",
      "File \u001b[0;32mpandas/_libs/hashtable_class_helper.pxi:1675\u001b[0m, in \u001b[0;36mpandas._libs.hashtable.PyObjectHashTable.get_item\u001b[0;34m()\u001b[0m\n",
      "File \u001b[0;32mpandas/_libs/hashtable_class_helper.pxi:1683\u001b[0m, in \u001b[0;36mpandas._libs.hashtable.PyObjectHashTable.get_item\u001b[0;34m()\u001b[0m\n",
      "\u001b[0;31mKeyError\u001b[0m: 'close'",
      "\nThe above exception was the direct cause of the following exception:\n",
      "\u001b[0;31mKeyError\u001b[0m                                  Traceback (most recent call last)",
      "Input \u001b[0;32mIn [12]\u001b[0m, in \u001b[0;36m<module>\u001b[0;34m\u001b[0m\n\u001b[0;32m----> 1\u001b[0m ma_30\u001b[38;5;241m=\u001b[39m \u001b[43mdf\u001b[49m\u001b[43m[\u001b[49m\u001b[38;5;124;43m'\u001b[39;49m\u001b[38;5;124;43mclose\u001b[39;49m\u001b[38;5;124;43m'\u001b[39;49m\u001b[43m]\u001b[49m\u001b[38;5;241m.\u001b[39mrolling(\u001b[38;5;241m30\u001b[39m)\u001b[38;5;241m.\u001b[39mmean()\n\u001b[1;32m      2\u001b[0m ma_30\n",
      "File \u001b[0;32m~/PycharmProjects/binance/venv/lib/python3.10/site-packages/pandas/core/frame.py:2906\u001b[0m, in \u001b[0;36mDataFrame.__getitem__\u001b[0;34m(self, key)\u001b[0m\n\u001b[1;32m   2904\u001b[0m \u001b[38;5;28;01mif\u001b[39;00m \u001b[38;5;28mself\u001b[39m\u001b[38;5;241m.\u001b[39mcolumns\u001b[38;5;241m.\u001b[39mnlevels \u001b[38;5;241m>\u001b[39m \u001b[38;5;241m1\u001b[39m:\n\u001b[1;32m   2905\u001b[0m     \u001b[38;5;28;01mreturn\u001b[39;00m \u001b[38;5;28mself\u001b[39m\u001b[38;5;241m.\u001b[39m_getitem_multilevel(key)\n\u001b[0;32m-> 2906\u001b[0m indexer \u001b[38;5;241m=\u001b[39m \u001b[38;5;28;43mself\u001b[39;49m\u001b[38;5;241;43m.\u001b[39;49m\u001b[43mcolumns\u001b[49m\u001b[38;5;241;43m.\u001b[39;49m\u001b[43mget_loc\u001b[49m\u001b[43m(\u001b[49m\u001b[43mkey\u001b[49m\u001b[43m)\u001b[49m\n\u001b[1;32m   2907\u001b[0m \u001b[38;5;28;01mif\u001b[39;00m is_integer(indexer):\n\u001b[1;32m   2908\u001b[0m     indexer \u001b[38;5;241m=\u001b[39m [indexer]\n",
      "File \u001b[0;32m~/PycharmProjects/binance/venv/lib/python3.10/site-packages/pandas/core/indexes/base.py:2900\u001b[0m, in \u001b[0;36mIndex.get_loc\u001b[0;34m(self, key, method, tolerance)\u001b[0m\n\u001b[1;32m   2898\u001b[0m         \u001b[38;5;28;01mreturn\u001b[39;00m \u001b[38;5;28mself\u001b[39m\u001b[38;5;241m.\u001b[39m_engine\u001b[38;5;241m.\u001b[39mget_loc(casted_key)\n\u001b[1;32m   2899\u001b[0m     \u001b[38;5;28;01mexcept\u001b[39;00m \u001b[38;5;167;01mKeyError\u001b[39;00m \u001b[38;5;28;01mas\u001b[39;00m err:\n\u001b[0;32m-> 2900\u001b[0m         \u001b[38;5;28;01mraise\u001b[39;00m \u001b[38;5;167;01mKeyError\u001b[39;00m(key) \u001b[38;5;28;01mfrom\u001b[39;00m \u001b[38;5;21;01merr\u001b[39;00m\n\u001b[1;32m   2902\u001b[0m \u001b[38;5;28;01mif\u001b[39;00m tolerance \u001b[38;5;129;01mis\u001b[39;00m \u001b[38;5;129;01mnot\u001b[39;00m \u001b[38;5;28;01mNone\u001b[39;00m:\n\u001b[1;32m   2903\u001b[0m     tolerance \u001b[38;5;241m=\u001b[39m \u001b[38;5;28mself\u001b[39m\u001b[38;5;241m.\u001b[39m_convert_tolerance(tolerance, np\u001b[38;5;241m.\u001b[39masarray(key))\n",
      "\u001b[0;31mKeyError\u001b[0m: 'close'"
     ]
    }
   ],
   "source": [
    "ma_30= df['close'].rolling(30).mean()\n",
    "ma_30"
   ]
  },
  {
   "cell_type": "code",
   "execution_count": null,
   "id": "9aacc259-c169-4dc5-ab1d-1eb13a5f957a",
   "metadata": {},
   "outputs": [],
   "source": []
  }
 ],
 "metadata": {
  "kernelspec": {
   "display_name": "Python 3 (ipykernel)",
   "language": "python",
   "name": "python3"
  },
  "language_info": {
   "codemirror_mode": {
    "name": "ipython",
    "version": 3
   },
   "file_extension": ".py",
   "mimetype": "text/x-python",
   "name": "python",
   "nbconvert_exporter": "python",
   "pygments_lexer": "ipython3",
   "version": "3.10.2"
  }
 },
 "nbformat": 4,
 "nbformat_minor": 5
}
